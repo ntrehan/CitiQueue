{
 "cells": [
  {
   "cell_type": "code",
   "execution_count": 37,
   "id": "cec36f17-86e2-4bf3-b548-7d9075bfd760",
   "metadata": {},
   "outputs": [],
   "source": [
    "import httpx"
   ]
  },
  {
   "cell_type": "code",
   "execution_count": 38,
   "id": "6a4e1342-6cdb-443c-b8e7-96dbb5e0a2ad",
   "metadata": {},
   "outputs": [],
   "source": [
    "url_stations_priority = \"http://127.0.0.1:8000/stations\" \n",
    "save_path_priority = \"priority_map.html\"\n",
    "url_stations_discounts = \"http://127.0.0.1:8000/stations/discounts\"\n",
    "save_path_discounts = \"discounts_map.html\""
   ]
  },
  {
   "cell_type": "code",
   "execution_count": 39,
   "id": "3a58e0a9-1a91-49cf-b014-14ce0c5ceecc",
   "metadata": {},
   "outputs": [],
   "source": [
    "def get_stations_priority(lat: float, lon: float, radius: float, capacity: int):\n",
    "    params = {\n",
    "        'lat': lat,\n",
    "        'lon': lon,\n",
    "        'radius': radius,\n",
    "        'capacity': capacity\n",
    "    }\n",
    "\n",
    "    response = httpx.get(url_stations_priority, params=params)\n",
    "\n",
    "    if response.status_code == 200:\n",
    "        return response.json()\n",
    "    else:\n",
    "        print(f\"Error: {response.status_code}\")\n",
    "        return None"
   ]
  },
  {
   "cell_type": "code",
   "execution_count": 40,
   "id": "1c9a3f73-9543-4193-87ed-4065fee3874d",
   "metadata": {},
   "outputs": [],
   "source": [
    "def get_stations_discount(lat: float, lon: float, radius: float, capacity: int):\n",
    "    params = {\n",
    "        'lat': lat,\n",
    "        'lon': lon,\n",
    "        'radius': radius,\n",
    "        'capacity': capacity\n",
    "    }\n",
    "\n",
    "    response = httpx.get(url_stations_discounts, params=params)\n",
    "\n",
    "    if response.status_code == 200:\n",
    "        return response.json()\n",
    "    else:\n",
    "        print(f\"Error: {response.status_code}\")\n",
    "        return None"
   ]
  },
  {
   "cell_type": "code",
   "execution_count": 41,
   "id": "b38d098c-ef19-40cc-a1ce-47d1e2e5f986",
   "metadata": {},
   "outputs": [],
   "source": [
    "import folium\n",
    "\n",
    "def create_map_priority(current_location, stations, capacity,save_path):\n",
    "    # Create a folium map centered at your current location\n",
    "    map_center = [current_location['lat'], current_location['lon']]\n",
    "    my_map = folium.Map(location=map_center, zoom_start=15)\n",
    "\n",
    "    # Add a marker for your current location\n",
    "    folium.Marker(\n",
    "        location=map_center,\n",
    "        popup=\"Your Location\",\n",
    "        icon=folium.Icon(color='blue')\n",
    "    ).add_to(my_map)\n",
    "\n",
    "    # Add markers for the top 5 nearby stations with numbers\n",
    "    for i, station in enumerate(stations[:capacity]):\n",
    "        station_location = [station['lat'], station['lon']]\n",
    "        station_number = i + 1  # Station numbers start from 1\n",
    "        folium.Marker(\n",
    "            location=station_location,\n",
    "            popup=f\"Station {station_number}: {station['name']}\",\n",
    "            icon=folium.Icon(color='red'),\n",
    "            tooltip=f\"Station {station_number}\"\n",
    "        ).add_to(my_map)\n",
    "\n",
    "    # Save the map to an HTML file\n",
    "    my_map.save(save_path)\n"
   ]
  },
  {
   "cell_type": "code",
   "execution_count": 42,
   "id": "3c6b9145-7abb-4d27-974a-0a27807b8ee7",
   "metadata": {},
   "outputs": [],
   "source": [
    "def create_map_discount(current_location, stations, capacity,save_path):\n",
    "    # Create a folium map centered at your current location\n",
    "    map_center = [current_location['lat'], current_location['lon']]\n",
    "    my_map = folium.Map(location=map_center, zoom_start=15)\n",
    "\n",
    "    # Add a marker for your current location\n",
    "    folium.Marker(\n",
    "        location=map_center,\n",
    "        popup=\"Your Location\",\n",
    "        icon=folium.Icon(color='blue')\n",
    "    ).add_to(my_map)\n",
    "\n",
    "    # Add markers for the top 5 nearby stations with numbers\n",
    "    for i, station in enumerate(stations[:capacity]):\n",
    "        station_location = [station['lat'], station['lon']]\n",
    "        station_number = i + 1  # Station numbers start from 1\n",
    "        folium.Marker(\n",
    "            location=station_location,\n",
    "            popup=f\"discount: {station_number}: {station['name']}\",\n",
    "            icon=folium.Icon(color='red'),\n",
    "            tooltip=f\"Discount: {round(station['discount'],2)} %\"\n",
    "        ).add_to(my_map)\n",
    "\n",
    "    # Save the map to an HTML file\n",
    "    my_map.save(save_path)"
   ]
  },
  {
   "cell_type": "code",
   "execution_count": 43,
   "id": "0376f479-7efe-4377-aa64-ea28e82f72e1",
   "metadata": {},
   "outputs": [],
   "source": [
    "from datetime import datetime\n",
    "def getTimeNow(this_time):\n",
    "    \n",
    "    # Convert milliseconds to seconds (divide by 1000)\n",
    "    timestamp_seconds = this_time / 1000.0\n",
    "    \n",
    "    # Convert the timestamp to a datetime object\n",
    "    converted_datetime = datetime.utcfromtimestamp(timestamp_seconds)  \n",
    "    return converted_datetime\n"
   ]
  },
  {
   "cell_type": "code",
   "execution_count": 54,
   "id": "30afc813-ae19-4037-b2ba-3dd7dfdbf864",
   "metadata": {
    "scrolled": true
   },
   "outputs": [
    {
     "name": "stdout",
     "output_type": "stream",
     "text": [
      "The 6 stations with highest maintenance priorty at this location at 2023-12-11 11:02:11 are\n",
      "{'station_id': 'c1e24edf-7192-433f-8d38-be5b6b3647c5', 'lat': 40.7201952144, 'lon': -74.0103006363, 'name': 'North Moore St & Greenwich St', 'capacity': 29, 'num_vehicles_available': 7, 'num_vehicles_disabled': 0, 'num_docks_available': 0, 'num_docks_disabled': 29, 'neighborhood': None, 'borough': 'Manhattan', 'dateTime': 1702292531000, 'day_of_week': 0, 'hour': 11, 'local_id': 1515, 'maintenance_priority': 3.625, 'predicted_traffic': 228.0}\n",
      "{'station_id': '66de867e-0aca-11e7-82f6-3863bb44ef7c', 'lat': 40.721319, 'lon': -74.010065, 'name': 'Greenwich St & Hubert St', 'capacity': 35, 'num_vehicles_available': 20, 'num_vehicles_disabled': 12, 'num_docks_available': 2, 'num_docks_disabled': 0, 'neighborhood': None, 'borough': 'Manhattan', 'dateTime': 1702292531000, 'day_of_week': 0, 'hour': 11, 'local_id': 914, 'maintenance_priority': 0.5217391304, 'predicted_traffic': 115.0}\n",
      "{'station_id': '66db7637-0aca-11e7-82f6-3863bb44ef7c', 'lat': 40.7096008936, 'lon': -74.0065509081, 'name': 'Fulton St & William St', 'capacity': 43, 'num_vehicles_available': 12, 'num_vehicles_disabled': 9, 'num_docks_available': 18, 'num_docks_disabled': 3, 'neighborhood': None, 'borough': 'Manhattan', 'dateTime': 1702292531000, 'day_of_week': 0, 'hour': 11, 'local_id': 801, 'maintenance_priority': 0.3870967742, 'predicted_traffic': 61.0}\n",
      "{'station_id': '66db2fd0-0aca-11e7-82f6-3863bb44ef7c', 'lat': 40.7221037867, 'lon': -73.9972490072, 'name': 'Cleveland Pl & Spring St', 'capacity': 33, 'num_vehicles_available': 22, 'num_vehicles_disabled': 7, 'num_docks_available': 1, 'num_docks_disabled': 2, 'neighborhood': None, 'borough': 'Manhattan', 'dateTime': 1702292531000, 'day_of_week': 0, 'hour': 11, 'local_id': 918, 'maintenance_priority': 0.375, 'predicted_traffic': 553.0}\n",
      "{'station_id': '66dbf518-0aca-11e7-82f6-3863bb44ef7c', 'lat': 40.7158155, 'lon': -73.99422366, 'name': 'Forsyth St & Canal St', 'capacity': 29, 'num_vehicles_available': 16, 'num_vehicles_disabled': 7, 'num_docks_available': 5, 'num_docks_disabled': 0, 'neighborhood': None, 'borough': 'Manhattan', 'dateTime': 1702292531000, 'day_of_week': 0, 'hour': 11, 'local_id': 705, 'maintenance_priority': 0.3181818182, 'predicted_traffic': 359.0}\n",
      "{'station_id': '3b530cff-dd26-4cfd-b570-a85fd53354fe', 'lat': 40.711444, 'lon': -74.014847, 'name': 'West St & Liberty St', 'capacity': 48, 'num_vehicles_available': 34, 'num_vehicles_disabled': 7, 'num_docks_available': 2, 'num_docks_disabled': 4, 'neighborhood': None, 'borough': 'Manhattan', 'dateTime': 1702292531000, 'day_of_week': 0, 'hour': 11, 'local_id': 1592, 'maintenance_priority': 0.2972972973, 'predicted_traffic': 255.7142857143}\n"
     ]
    }
   ],
   "source": [
    "lat = 40.7128\n",
    "lon = -74.0060\n",
    "radius = 1.0\n",
    "capacity = 6\n",
    "current_location = {\"lat\": 40.7128, \"lon\": -74.0060}\n",
    "result = get_stations_priority(lat, lon, radius, capacity)\n",
    "timeNow = getTimeNow(result[0][\"dateTime\"])\n",
    "\n",
    "if result is not None:\n",
    "    print(\"The \" + str(capacity) +  \" stations with highest maintenance priorty at this location at \" + str(timeNow) + \" are\")\n",
    "    for station in result:\n",
    "        print(station)\n",
    "\n",
    "create_map_priority(current_location, result, capacity,save_path_priority)\n"
   ]
  },
  {
   "cell_type": "code",
   "execution_count": 55,
   "id": "11189b38-8276-4151-9b88-2517bd359b22",
   "metadata": {},
   "outputs": [
    {
     "data": {
      "text/html": [
       "\n",
       "        <iframe\n",
       "            width=\"700\"\n",
       "            height=\"600\"\n",
       "            src=\"priority_map.html\"\n",
       "            frameborder=\"0\"\n",
       "            allowfullscreen\n",
       "            \n",
       "        ></iframe>\n",
       "        "
      ],
      "text/plain": [
       "<IPython.lib.display.IFrame at 0x244261e2010>"
      ]
     },
     "execution_count": 55,
     "metadata": {},
     "output_type": "execute_result"
    }
   ],
   "source": [
    "from IPython.display import IFrame\n",
    "# Specify the path to the saved HTML file\n",
    "html_file_path = save_path_priority\n",
    "\n",
    "# Use the IFrame class to embed the HTML file in the notebook\n",
    "IFrame(html_file_path, width=700, height=600)"
   ]
  },
  {
   "cell_type": "code",
   "execution_count": 56,
   "id": "e98c0e24-2ba1-424d-9d2a-6d968d4db839",
   "metadata": {},
   "outputs": [
    {
     "name": "stdout",
     "output_type": "stream",
     "text": [
      "The 5 stations with highest maintenance priorty at this location at 2023-12-11 11:02:38 are\n",
      "{'station_id': '66db3687-0aca-11e7-82f6-3863bb44ef7c', 'lat': 40.70037867, 'lon': -73.99548059, 'name': 'Columbia Heights & Cranberry St', 'capacity': 37, 'num_vehicles_available': 7, 'num_vehicles_disabled': 1, 'num_docks_available': 0, 'num_docks_disabled': 29, 'neighborhood': 'Brooklyn Heights', 'borough': 'Brooklyn', 'dateTime': 1702292558000, 'day_of_week': 0, 'hour': 11, 'local_id': 292, 'maintenance_priority': 3.75, 'predicted_traffic': 95.0}\n",
      "{'station_id': '17ba4945-b202-4667-965f-211d80622646', 'lat': 40.69985, 'lon': -73.97141, 'name': 'Dock 72 Way & Market St', 'capacity': 22, 'num_vehicles_available': 5, 'num_vehicles_disabled': 1, 'num_docks_available': 0, 'num_docks_disabled': 17, 'neighborhood': 'Brooklyn Navy Yard', 'borough': 'Brooklyn', 'dateTime': 1702292559000, 'day_of_week': 0, 'hour': 11, 'local_id': 403, 'maintenance_priority': 3.0, 'predicted_traffic': 27.0}\n",
      "{'station_id': '66db43b5-0aca-11e7-82f6-3863bb44ef7c', 'lat': 40.68940747, 'lon': -73.96885458, 'name': 'DeKalb Ave & Vanderbilt Ave', 'capacity': 23, 'num_vehicles_available': 0, 'num_vehicles_disabled': 10, 'num_docks_available': 12, 'num_docks_disabled': 0, 'neighborhood': 'Clinton Hill', 'borough': 'Brooklyn', 'dateTime': 1702292559000, 'day_of_week': 0, 'hour': 11, 'local_id': 1547, 'maintenance_priority': 0.7692307692, 'predicted_traffic': 94.0}\n",
      "{'station_id': 'bdcbd89b-9ae0-461b-aa1d-7db7ead07400', 'lat': 40.677027, 'lon': -73.9865, 'name': '3 Ave & Carroll St', 'capacity': 27, 'num_vehicles_available': 14, 'num_vehicles_disabled': 2, 'num_docks_available': 3, 'num_docks_disabled': 8, 'neighborhood': 'Gowanus', 'borough': 'Brooklyn', 'dateTime': 1702292558000, 'day_of_week': 0, 'hour': 11, 'local_id': 562, 'maintenance_priority': 0.5555555556, 'predicted_traffic': 39.0}\n",
      "{'station_id': '8caf71df-76c3-43fb-be98-d555d2291460', 'lat': 40.6794388, 'lon': -73.9680438, 'name': 'Bergen St & Vanderbilt Ave', 'capacity': 27, 'num_vehicles_available': 8, 'num_vehicles_disabled': 5, 'num_docks_available': 11, 'num_docks_disabled': 2, 'neighborhood': 'Prospect Heights', 'borough': 'Brooklyn', 'dateTime': 1702292558000, 'day_of_week': 0, 'hour': 11, 'local_id': 145, 'maintenance_priority': 0.35, 'predicted_traffic': 114.0}\n"
     ]
    }
   ],
   "source": [
    "lat = 40.694\n",
    "lon = -73.985\n",
    "radius = 1.5\n",
    "capacity = 5\n",
    "current_location = {\"lat\": 40.694, \"lon\": -73.985}\n",
    "result = get_stations_priority(lat, lon, radius, capacity)\n",
    "timeNow = getTimeNow(result[0][\"dateTime\"])\n",
    "\n",
    "if result is not None:\n",
    "    print(\"The \" + str(capacity) +  \" stations with highest maintenance priorty at this location at \" + str(timeNow) + \" are\")\n",
    "    for station in result:\n",
    "        print(station)\n",
    "\n",
    "create_map_priority(current_location, result, capacity,save_path_priority)"
   ]
  },
  {
   "cell_type": "code",
   "execution_count": 57,
   "id": "8817021d-2b9e-4336-98b5-5584a2dbf77c",
   "metadata": {},
   "outputs": [
    {
     "data": {
      "text/html": [
       "\n",
       "        <iframe\n",
       "            width=\"700\"\n",
       "            height=\"600\"\n",
       "            src=\"priority_map.html\"\n",
       "            frameborder=\"0\"\n",
       "            allowfullscreen\n",
       "            \n",
       "        ></iframe>\n",
       "        "
      ],
      "text/plain": [
       "<IPython.lib.display.IFrame at 0x24446eb8ad0>"
      ]
     },
     "execution_count": 57,
     "metadata": {},
     "output_type": "execute_result"
    }
   ],
   "source": [
    "from IPython.display import IFrame\n",
    "# Specify the path to the saved HTML file\n",
    "html_file_path = save_path_priority\n",
    "\n",
    "# Use the IFrame class to embed the HTML file in the notebook\n",
    "IFrame(html_file_path, width=700, height=600)"
   ]
  },
  {
   "cell_type": "code",
   "execution_count": 58,
   "id": "832d8827-2798-4bf6-bc82-4f39d36770ee",
   "metadata": {},
   "outputs": [
    {
     "name": "stdout",
     "output_type": "stream",
     "text": [
      "The 10 stations with highest discounts at this location at 2023-12-11 11:04:02 are\n",
      "{'station_id': '014a931b-8e1c-438a-8a22-f267ddd1e0d2', 'lat': 40.7075188831, 'lon': -74.0010805428, 'name': 'Peck Slip & South St', 'capacity': 45, 'num_vehicles_available': 33, 'num_vehicles_disabled': 9, 'num_docks_available': 1, 'num_docks_disabled': 0, 'neighborhood': None, 'borough': 'Manhattan', 'dateTime': 1702292642000, 'day_of_week': 0, 'hour': 11, 'local_id': 1626, 'maintenance_priority': 0.2571428571, 'predicted_traffic': 28.0, 'discount': 16.161616161616163}\n",
      "{'station_id': '32cc1603-a4b5-4099-b7bf-681de451b04a', 'lat': 40.717411, 'lon': -73.999573, 'name': 'Walker St & Baxter St', 'capacity': 47, 'num_vehicles_available': 41, 'num_vehicles_disabled': 4, 'num_docks_available': 1, 'num_docks_disabled': 0, 'neighborhood': None, 'borough': 'Manhattan', 'dateTime': 1702292642000, 'day_of_week': 0, 'hour': 11, 'local_id': 168, 'maintenance_priority': 0.0930232558, 'predicted_traffic': 62.0, 'discount': 12.596006144393241}\n",
      "{'station_id': '19d17911-1e4a-41fa-b62b-719aa0a6182e', 'lat': 40.7197920901, 'lon': -74.0052238852, 'name': '6 Ave & Walker St', 'capacity': 39, 'num_vehicles_available': 31, 'num_vehicles_disabled': 6, 'num_docks_available': 2, 'num_docks_disabled': 0, 'neighborhood': None, 'borough': 'Manhattan', 'dateTime': 1702292642000, 'day_of_week': 0, 'hour': 11, 'local_id': 270, 'maintenance_priority': 0.1764705882, 'predicted_traffic': 54.0, 'discount': 10.934744268077601}\n",
      "{'station_id': 'c2800791-1911-4f2b-8fc7-bed280c557c0', 'lat': 40.716885385, 'lon': -74.0065012872, 'name': 'Church St & Worth St', 'capacity': 45, 'num_vehicles_available': 24, 'num_vehicles_disabled': 3, 'num_docks_available': 18, 'num_docks_disabled': 0, 'neighborhood': None, 'borough': 'Manhattan', 'dateTime': 1702292642000, 'day_of_week': 0, 'hour': 11, 'local_id': 977, 'maintenance_priority': 0.0697674419, 'predicted_traffic': 13.0, 'discount': 10.317460317460316}\n",
      "{'station_id': 'e8df73bd-5d3d-47c9-b04d-bcec4db5540f', 'lat': 40.70838, 'lon': -74.00495, 'name': 'Cliff St & Fulton St', 'capacity': 65, 'num_vehicles_available': 56, 'num_vehicles_disabled': 5, 'num_docks_available': 4, 'num_docks_disabled': 0, 'neighborhood': None, 'borough': 'Manhattan', 'dateTime': 1702292642000, 'day_of_week': 0, 'hour': 11, 'local_id': 870, 'maintenance_priority': 0.0819672131, 'predicted_traffic': 132.0, 'discount': 8.080808080808081}\n",
      "{'station_id': 'e625e677-d175-4902-9764-d92716d86fd5', 'lat': 40.714193, 'lon': -73.996732, 'name': 'Division St & Bowery', 'capacity': 49, 'num_vehicles_available': 47, 'num_vehicles_disabled': 1, 'num_docks_available': 0, 'num_docks_disabled': 0, 'neighborhood': None, 'borough': 'Manhattan', 'dateTime': 1702292642000, 'day_of_week': 0, 'hour': 11, 'local_id': 162, 'maintenance_priority': 0.0208333333, 'predicted_traffic': 122.0, 'discount': 7.338017174082748}\n",
      "{'station_id': '66db3053-0aca-11e7-82f6-3863bb44ef7c', 'lat': 40.71473993, 'lon': -74.00910627, 'name': 'Warren St & W Broadway', 'capacity': 71, 'num_vehicles_available': 30, 'num_vehicles_disabled': 3, 'num_docks_available': 38, 'num_docks_disabled': 0, 'neighborhood': None, 'borough': 'Manhattan', 'dateTime': 1702292642000, 'day_of_week': 0, 'hour': 11, 'local_id': 235, 'maintenance_priority': 0.0434782609, 'predicted_traffic': 78.0, 'discount': 7.326007326007327}\n",
      "{'station_id': '66dbe848-0aca-11e7-82f6-3863bb44ef7c', 'lat': 40.71494807, 'lon': -74.00234482, 'name': 'Centre St & Worth St', 'capacity': 82, 'num_vehicles_available': 74, 'num_vehicles_disabled': 5, 'num_docks_available': 2, 'num_docks_disabled': 0, 'neighborhood': None, 'borough': 'Manhattan', 'dateTime': 1702292642000, 'day_of_week': 0, 'hour': 11, 'local_id': 997, 'maintenance_priority': 0.0649350649, 'predicted_traffic': 212.0, 'discount': 6.64869721473495}\n",
      "{'station_id': '66db90f1-0aca-11e7-82f6-3863bb44ef7c', 'lat': 40.71450451, 'lon': -74.00562789, 'name': 'Reade St & Broadway', 'capacity': 62, 'num_vehicles_available': 47, 'num_vehicles_disabled': 8, 'num_docks_available': 6, 'num_docks_disabled': 1, 'neighborhood': None, 'borough': 'Manhattan', 'dateTime': 1702292642000, 'day_of_week': 0, 'hour': 11, 'local_id': 1624, 'maintenance_priority': 0.1666666667, 'predicted_traffic': 143.0, 'discount': 6.260406260406261}\n",
      "{'station_id': '66db408f-0aca-11e7-82f6-3863bb44ef7c', 'lat': 40.71870987, 'lon': -74.0090009, 'name': 'Harrison St & Hudson St', 'capacity': 39, 'num_vehicles_available': 34, 'num_vehicles_disabled': 4, 'num_docks_available': 1, 'num_docks_disabled': 0, 'neighborhood': None, 'borough': 'Manhattan', 'dateTime': 1702292642000, 'day_of_week': 0, 'hour': 11, 'local_id': 284, 'maintenance_priority': 0.1111111111, 'predicted_traffic': 104.0, 'discount': 6.227106227106227}\n"
     ]
    }
   ],
   "source": [
    "lat = 40.7128\n",
    "lon = -74.0060\n",
    "radius = 0.5\n",
    "capacity = 10\n",
    "current_location = {\"lat\": 40.7128, \"lon\": -74.0060}\n",
    "result = get_stations_discount(lat, lon, radius, capacity)\n",
    "timeNow = getTimeNow(result[0][\"dateTime\"])\n",
    "\n",
    "if result is not None:\n",
    "    print(\"The \" + str(capacity) +  \" stations with highest discounts at this location at \" + str(timeNow) + \" are\")\n",
    "    for station in result:\n",
    "        print(station)\n",
    "create_map_discount(current_location, result, capacity,save_path_discounts)"
   ]
  },
  {
   "cell_type": "code",
   "execution_count": 59,
   "id": "fb2d86d8-8eee-476d-a117-2c3674d4c43b",
   "metadata": {},
   "outputs": [
    {
     "data": {
      "text/html": [
       "\n",
       "        <iframe\n",
       "            width=\"700\"\n",
       "            height=\"600\"\n",
       "            src=\"discounts_map.html\"\n",
       "            frameborder=\"0\"\n",
       "            allowfullscreen\n",
       "            \n",
       "        ></iframe>\n",
       "        "
      ],
      "text/plain": [
       "<IPython.lib.display.IFrame at 0x2442653e450>"
      ]
     },
     "execution_count": 59,
     "metadata": {},
     "output_type": "execute_result"
    }
   ],
   "source": [
    "from IPython.display import IFrame\n",
    "# Specify the path to the saved HTML file\n",
    "html_file_path = save_path_discounts\n",
    "\n",
    "# Use the IFrame class to embed the HTML file in the notebook\n",
    "IFrame(html_file_path, width=700, height=600)"
   ]
  },
  {
   "cell_type": "code",
   "execution_count": 60,
   "id": "89f3019e-95ab-442c-b532-55ae970f1029",
   "metadata": {},
   "outputs": [
    {
     "name": "stdout",
     "output_type": "stream",
     "text": [
      "The 10 stations with highest discounts at this location at 2023-12-11 11:04:29 are\n",
      "{'station_id': 'c2291f8e-3b07-4671-82af-2b947825de4a', 'lat': 40.68917, 'lon': -73.9886, 'name': 'State St & Smith St', 'capacity': 66, 'num_vehicles_available': 53, 'num_vehicles_disabled': 1, 'num_docks_available': 11, 'num_docks_disabled': 1, 'neighborhood': 'Boerum Hill', 'borough': 'Brooklyn', 'dateTime': 1702292669000, 'day_of_week': 0, 'hour': 11, 'local_id': 1180, 'maintenance_priority': 0.0307692308, 'predicted_traffic': 49.3928571429, 'discount': 17.75125144398922}\n",
      "{'station_id': 'a1acdab2-29c7-4956-8b2e-24b39dc2ff13', 'lat': 40.6886263, 'lon': -73.9851911, 'name': 'Schermerhorn St & Hoyt St', 'capacity': 40, 'num_vehicles_available': 25, 'num_vehicles_disabled': 3, 'num_docks_available': 9, 'num_docks_disabled': 2, 'neighborhood': 'Boerum Hill', 'borough': 'Brooklyn', 'dateTime': 1702292669000, 'day_of_week': 0, 'hour': 11, 'local_id': 927, 'maintenance_priority': 0.1428571429, 'predicted_traffic': 27.3333333333, 'discount': 17.42160278747769}\n",
      "{'station_id': '59df3823-0369-4a10-8132-05df34a170af', 'lat': 40.693534, 'lon': -73.981909, 'name': 'Myrtle Ave & Fleet Pl', 'capacity': 47, 'num_vehicles_available': 28, 'num_vehicles_disabled': 2, 'num_docks_available': 16, 'num_docks_disabled': 1, 'neighborhood': 'Downtown Brooklyn', 'borough': 'Brooklyn', 'dateTime': 1702292669000, 'day_of_week': 0, 'hour': 11, 'local_id': 21, 'maintenance_priority': 0.0666666667, 'predicted_traffic': 41.0, 'discount': 13.008130081300813}\n",
      "{'station_id': '1ecc9936-ee0c-44b2-baa8-237564c8e4fd', 'lat': 40.690065, 'lon': -73.978776, 'name': 'Ashland Pl & Dekalb Ave', 'capacity': 47, 'num_vehicles_available': 32, 'num_vehicles_disabled': 2, 'num_docks_available': 12, 'num_docks_disabled': 1, 'neighborhood': 'Downtown Brooklyn', 'borough': 'Brooklyn', 'dateTime': 1702292669000, 'day_of_week': 0, 'hour': 11, 'local_id': 1555, 'maintenance_priority': 0.0666666667, 'predicted_traffic': 47.6666666667, 'discount': 12.787212787203844}\n",
      "{'station_id': '66db2db5-0aca-11e7-82f6-3863bb44ef7c', 'lat': 40.69839895, 'lon': -73.98068914, 'name': 'Nassau St & Navy St', 'capacity': 58, 'num_vehicles_available': 55, 'num_vehicles_disabled': 4, 'num_docks_available': 0, 'num_docks_disabled': 0, 'neighborhood': 'Brooklyn Navy Yard', 'borough': 'Brooklyn', 'dateTime': 1702292669000, 'day_of_week': 0, 'hour': 11, 'local_id': 1010, 'maintenance_priority': 0.0714285714, 'predicted_traffic': 82.0, 'discount': 12.775842044134729}\n",
      "{'station_id': '3d835eaa-a102-42c5-b6c0-2c693b1d0677', 'lat': 40.6910363749, 'lon': -73.992010653, 'name': 'Schermerhorn St & Court St', 'capacity': 59, 'num_vehicles_available': 12, 'num_vehicles_disabled': 1, 'num_docks_available': 46, 'num_docks_disabled': 0, 'neighborhood': 'Brooklyn Heights', 'borough': 'Brooklyn', 'dateTime': 1702292669000, 'day_of_week': 0, 'hour': 11, 'local_id': 1595, 'maintenance_priority': 0.0169491525, 'predicted_traffic': 18.6666666667, 'discount': 12.24489795916181}\n",
      "{'station_id': '66db2953-0aca-11e7-82f6-3863bb44ef7c', 'lat': 40.69608941, 'lon': -73.97803415, 'name': 'Park Ave & St Edwards St', 'capacity': 53, 'num_vehicles_available': 47, 'num_vehicles_disabled': 1, 'num_docks_available': 5, 'num_docks_disabled': 0, 'neighborhood': 'Fort Greene', 'borough': 'Brooklyn', 'dateTime': 1702292669000, 'day_of_week': 0, 'hour': 11, 'local_id': 1260, 'maintenance_priority': 0.0188679245, 'predicted_traffic': 79.0, 'discount': 11.332127787823989}\n",
      "{'station_id': '8dfff4bd-0f3c-43af-bc55-a63850f66c6b', 'lat': 40.699569, 'lon': -73.979827, 'name': 'Sands St Gate', 'capacity': 19, 'num_vehicles_available': 19, 'num_vehicles_disabled': 0, 'num_docks_available': 0, 'num_docks_disabled': 0, 'neighborhood': None, 'borough': 'Brooklyn', 'dateTime': 1702292669000, 'day_of_week': 0, 'hour': 11, 'local_id': 1506, 'maintenance_priority': 0.0, 'predicted_traffic': 35.0, 'discount': 10.34013605442177}\n",
      "{'station_id': '4543214c-c9d4-4f20-9cd9-dd05cc365931', 'lat': 40.700119, 'lon': -73.9862, 'name': 'Sands St & Jay St', 'capacity': 48, 'num_vehicles_available': 21, 'num_vehicles_disabled': 7, 'num_docks_available': 19, 'num_docks_disabled': 1, 'neighborhood': 'Bridge Plaza', 'borough': 'Brooklyn', 'dateTime': 1702292669000, 'day_of_week': 0, 'hour': 11, 'local_id': 503, 'maintenance_priority': 0.1951219512, 'predicted_traffic': 49.0, 'discount': 8.163265306122447}\n",
      "{'station_id': '66db89a3-0aca-11e7-82f6-3863bb44ef7c', 'lat': 40.689888, 'lon': -73.981013, 'name': 'DeKalb Ave & Hudson Ave', 'capacity': 74, 'num_vehicles_available': 52, 'num_vehicles_disabled': 2, 'num_docks_available': 20, 'num_docks_disabled': 0, 'neighborhood': 'Fort Greene', 'borough': 'Brooklyn', 'dateTime': 1702292669000, 'day_of_week': 0, 'hour': 11, 'local_id': 530, 'maintenance_priority': 0.0273972603, 'predicted_traffic': 150.6, 'discount': 6.57686713463606}\n"
     ]
    }
   ],
   "source": [
    "lat = 40.694\n",
    "lon = -73.985\n",
    "radius = 0.5\n",
    "capacity = 10\n",
    "current_location = {\"lat\": 40.694, \"lon\": -73.985}\n",
    "result = get_stations_discount(lat, lon, radius, capacity)\n",
    "timeNow = getTimeNow(result[0][\"dateTime\"])\n",
    "\n",
    "if result is not None:\n",
    "    print(\"The \" + str(capacity) +  \" stations with highest discounts at this location at \" + str(timeNow) + \" are\")\n",
    "    for station in result:\n",
    "        print(station)\n",
    "create_map_discount(current_location, result, capacity,save_path_discounts)"
   ]
  },
  {
   "cell_type": "code",
   "execution_count": 61,
   "id": "bb7db0fd-01bc-434c-8d87-9181f7b74bcb",
   "metadata": {},
   "outputs": [
    {
     "data": {
      "text/html": [
       "\n",
       "        <iframe\n",
       "            width=\"700\"\n",
       "            height=\"600\"\n",
       "            src=\"discounts_map.html\"\n",
       "            frameborder=\"0\"\n",
       "            allowfullscreen\n",
       "            \n",
       "        ></iframe>\n",
       "        "
      ],
      "text/plain": [
       "<IPython.lib.display.IFrame at 0x24446ed9c10>"
      ]
     },
     "execution_count": 61,
     "metadata": {},
     "output_type": "execute_result"
    }
   ],
   "source": [
    "from IPython.display import IFrame\n",
    "# Specify the path to the saved HTML file\n",
    "html_file_path = save_path_discounts\n",
    "\n",
    "# Use the IFrame class to embed the HTML file in the notebook\n",
    "IFrame(html_file_path, width=700, height=600)"
   ]
  },
  {
   "cell_type": "code",
   "execution_count": null,
   "id": "7365ee9c-c3d3-40dd-a386-74be53b0cd60",
   "metadata": {},
   "outputs": [],
   "source": []
  }
 ],
 "metadata": {
  "kernelspec": {
   "display_name": "Python 3 (ipykernel)",
   "language": "python",
   "name": "python3"
  },
  "language_info": {
   "codemirror_mode": {
    "name": "ipython",
    "version": 3
   },
   "file_extension": ".py",
   "mimetype": "text/x-python",
   "name": "python",
   "nbconvert_exporter": "python",
   "pygments_lexer": "ipython3",
   "version": "3.11.1"
  }
 },
 "nbformat": 4,
 "nbformat_minor": 5
}
