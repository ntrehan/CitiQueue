{
  "nbformat": 4,
  "nbformat_minor": 0,
  "metadata": {
    "colab": {
      "provenance": []
    },
    "kernelspec": {
      "name": "python3",
      "display_name": "Python 3"
    },
    "language_info": {
      "name": "python"
    }
  },
  "cells": [
    {
      "cell_type": "markdown",
      "source": [],
      "metadata": {
        "id": "3xIR5eLLk9li"
      }
    },
    {
      "cell_type": "code",
      "source": [
        "from google.colab import drive\n",
        "drive.mount('/gdrive')"
      ],
      "metadata": {
        "colab": {
          "base_uri": "https://localhost:8080/"
        },
        "id": "Bzs1aDU9k-ua",
        "outputId": "7ce0ec9e-106d-4375-c2c4-8896be075cca"
      },
      "execution_count": 36,
      "outputs": [
        {
          "output_type": "stream",
          "name": "stdout",
          "text": [
            "Drive already mounted at /gdrive; to attempt to forcibly remount, call drive.mount(\"/gdrive\", force_remount=True).\n"
          ]
        }
      ]
    },
    {
      "cell_type": "code",
      "execution_count": 37,
      "metadata": {
        "id": "C9xaTKMTkpQ3"
      },
      "outputs": [],
      "source": [
        "import os, time\n",
        "import requests\n",
        "import json\n",
        "from datetime import datetime\n",
        "\n",
        "station_information = \"https://gbfs.citibikenyc.com/gbfs/en/station_information.json\"\n",
        "station_status = \"https://gbfs.citibikenyc.com/gbfs/en/station_status.json\"\n"
      ]
    },
    {
      "cell_type": "code",
      "source": [
        "station_status_file_loc = '/gdrive/My Drive/station_status.json'\n",
        "station_information_file_loc = '/gdrive/My Drive/station_information.json'\n",
        "station_data_file_loc = '/gdrive/My Drive/station_data.json'\n",
        "neighborhoods_data_file_loc = '/gdrive/My Drive/neighborhoods.json'\n",
        "station_ids_file = '/gdrive/My Drive/station_ids.json'"
      ],
      "metadata": {
        "id": "fVscwsvt4qG4"
      },
      "execution_count": 38,
      "outputs": []
    },
    {
      "cell_type": "code",
      "source": [
        "def fetch_station_info():\n",
        "    response = requests.get(station_information)\n",
        "    if response.status_code == 200:\n",
        "        return response.json()['data']['stations']\n",
        "    else:\n",
        "        print(f\"Error fetching station information. Status code: {response.status_code}\")\n",
        "        return []"
      ],
      "metadata": {
        "id": "TnQwt83unBGT"
      },
      "execution_count": 39,
      "outputs": []
    },
    {
      "cell_type": "code",
      "source": [
        "def fetch_station_status():\n",
        "    response = requests.get(station_status)\n",
        "    if response.status_code == 200:\n",
        "        return response.json()['data']['stations']\n",
        "    else:\n",
        "        print(f\"Error fetching station status. Status code: {response.status_code}\")\n",
        "        return []"
      ],
      "metadata": {
        "id": "XkjmeoKanFE5"
      },
      "execution_count": 40,
      "outputs": []
    },
    {
      "cell_type": "code",
      "source": [
        "datetime.now()"
      ],
      "metadata": {
        "colab": {
          "base_uri": "https://localhost:8080/"
        },
        "id": "Snpu4nhJFCuP",
        "outputId": "66c60b4d-3562-402d-b7d4-e1c459a3dd12"
      },
      "execution_count": 41,
      "outputs": [
        {
          "output_type": "execute_result",
          "data": {
            "text/plain": [
              "datetime.datetime(2023, 12, 7, 2, 26, 29, 903723)"
            ]
          },
          "metadata": {},
          "execution_count": 41
        }
      ]
    },
    {
      "cell_type": "code",
      "source": [
        "import json\n",
        "from datetime import datetime\n",
        "\n",
        "def combine_and_save_data(station_info, station_status, neighborhood_file, station_ids_file, station_data_file_loc):\n",
        "    # Load neighborhood data from the file\n",
        "    with open(neighborhood_file, 'r') as neighborhood_file:\n",
        "        neighborhood_data = json.load(neighborhood_file)\n",
        "\n",
        "    # Load station IDs from the file\n",
        "    with open(station_ids_file, 'r') as station_ids_file:\n",
        "        station_ids = [entry['station_id'] for entry in json.load(station_ids_file)]\n",
        "\n",
        "    combined_data = []\n",
        "\n",
        "    # Get the current date and time\n",
        "    current_datetime = datetime.now().strftime(\"%Y-%m-%d %H:%M:%S\")\n",
        "    # TODO Fix the day of week\n",
        "    day_of_week = datetime.now().weekday()\n",
        "    hour = datetime.now().hour\n",
        "    # Iterate through station_info\n",
        "    for info in station_info:\n",
        "        # Find the corresponding station_status entry\n",
        "        matching_status = next((status for status in station_status if status['station_id'] == info['station_id']), None)\n",
        "\n",
        "        # Find the corresponding neighborhood entry\n",
        "        matching_neighborhood = next((neighborhood for neighborhood in neighborhood_data if neighborhood['station_id'] == info['station_id']), None)\n",
        "\n",
        "        # If both matching status and neighborhood entries are found, and all conditions are met\n",
        "        if matching_status and matching_neighborhood:\n",
        "            combined_station = {\n",
        "                \"station_id\": info[\"station_id\"],\n",
        "                \"lat\": info[\"lat\"],\n",
        "                \"lon\": info[\"lon\"],\n",
        "                \"name\": info[\"name\"],\n",
        "                \"capacity\": info[\"capacity\"],\n",
        "                \"num_vehicles_available\": matching_status[\"num_bikes_available\"],\n",
        "                \"num_vehicles_disabled\": matching_status[\"num_bikes_disabled\"],\n",
        "                \"num_docks_available\": matching_status[\"num_docks_available\"],\n",
        "                \"num_docks_disabled\": matching_status[\"num_docks_disabled\"],\n",
        "                \"neighborhood\": matching_neighborhood[\"neighborhood\"],\n",
        "                \"borough\": matching_neighborhood[\"borough\"],\n",
        "                \"dateTime\": current_datetime,\n",
        "                \"day_of_week\": day_of_week,\n",
        "                \"hour\": day_of_week\n",
        "            }\n",
        "\n",
        "            # Check if the station_id is in the list of allowed station IDs\n",
        "            if combined_station[\"station_id\"] in station_ids:\n",
        "                combined_data.append(combined_station)\n",
        "    print(len(combined_data))\n",
        "    # Save the combined data to the specified file\n",
        "    with open(station_data_file_loc, 'w') as file:\n",
        "        json.dump(combined_data, file, indent=2)\n",
        "\n",
        "    print(f\"Filtered and combined data with neighborhood, borough, and dateTime saved to {station_data_file_loc}\")\n"
      ],
      "metadata": {
        "id": "9yP0mx9ZnOT-"
      },
      "execution_count": 42,
      "outputs": []
    },
    {
      "cell_type": "code",
      "source": [
        "station_info_data = fetch_station_info()"
      ],
      "metadata": {
        "id": "TM7qOSvjnrO-"
      },
      "execution_count": 43,
      "outputs": []
    },
    {
      "cell_type": "code",
      "source": [
        "while True:\n",
        "    station_status_data = fetch_station_status()\n",
        "    combine_and_save_data(station_info_data, station_status_data, neighborhoods_data_file_loc, station_ids_file, station_data_file_loc)\n",
        "\n",
        "    # Sleep for 60 seconds before fetching data again\n",
        "    time.sleep(5)"
      ],
      "metadata": {
        "colab": {
          "base_uri": "https://localhost:8080/",
          "height": 279
        },
        "id": "Usk792canbtB",
        "outputId": "a5c5a064-6135-4254-cf44-3ff50552244e"
      },
      "execution_count": 44,
      "outputs": [
        {
          "output_type": "stream",
          "name": "stdout",
          "text": [
            "1673\n",
            "Filtered and combined data with neighborhood, borough, and dateTime saved to /gdrive/My Drive/station_data.json\n",
            "1673\n",
            "Filtered and combined data with neighborhood, borough, and dateTime saved to /gdrive/My Drive/station_data.json\n"
          ]
        },
        {
          "output_type": "error",
          "ename": "KeyboardInterrupt",
          "evalue": "ignored",
          "traceback": [
            "\u001b[0;31m---------------------------------------------------------------------------\u001b[0m",
            "\u001b[0;31mKeyboardInterrupt\u001b[0m                         Traceback (most recent call last)",
            "\u001b[0;32m<ipython-input-44-4db49d8b7d3a>\u001b[0m in \u001b[0;36m<cell line: 1>\u001b[0;34m()\u001b[0m\n\u001b[1;32m      4\u001b[0m \u001b[0;34m\u001b[0m\u001b[0m\n\u001b[1;32m      5\u001b[0m     \u001b[0;31m# Sleep for 60 seconds before fetching data again\u001b[0m\u001b[0;34m\u001b[0m\u001b[0;34m\u001b[0m\u001b[0m\n\u001b[0;32m----> 6\u001b[0;31m     \u001b[0mtime\u001b[0m\u001b[0;34m.\u001b[0m\u001b[0msleep\u001b[0m\u001b[0;34m(\u001b[0m\u001b[0;36m5\u001b[0m\u001b[0;34m)\u001b[0m\u001b[0;34m\u001b[0m\u001b[0;34m\u001b[0m\u001b[0m\n\u001b[0m",
            "\u001b[0;31mKeyboardInterrupt\u001b[0m: "
          ]
        }
      ]
    },
    {
      "cell_type": "code",
      "source": [],
      "metadata": {
        "id": "K1J2enFPnk_W"
      },
      "execution_count": null,
      "outputs": []
    }
  ]
}