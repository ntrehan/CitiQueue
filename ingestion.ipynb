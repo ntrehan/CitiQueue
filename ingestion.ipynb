{
  "nbformat": 4,
  "nbformat_minor": 0,
  "metadata": {
    "colab": {
      "provenance": []
    },
    "kernelspec": {
      "name": "python3",
      "display_name": "Python 3"
    },
    "language_info": {
      "name": "python"
    }
  },
  "cells": [
    {
      "cell_type": "markdown",
      "source": [],
      "metadata": {
        "id": "3xIR5eLLk9li"
      }
    },
    {
      "cell_type": "code",
      "source": [
        "from google.colab import drive\n",
        "drive.mount('/gdrive')"
      ],
      "metadata": {
        "colab": {
          "base_uri": "https://localhost:8080/"
        },
        "id": "Bzs1aDU9k-ua",
        "outputId": "90d04db9-1a2a-4ddf-86b9-56a9ea3f156c"
      },
      "execution_count": 1,
      "outputs": [
        {
          "output_type": "stream",
          "name": "stdout",
          "text": [
            "Mounted at /gdrive\n"
          ]
        }
      ]
    },
    {
      "cell_type": "code",
      "execution_count": 18,
      "metadata": {
        "id": "C9xaTKMTkpQ3"
      },
      "outputs": [],
      "source": [
        "import os,time\n",
        "import requests\n",
        "import json\n",
        "from datetime import datetime\n",
        "\n",
        "station_information = \"https://gbfs.citibikenyc.com/gbfs/en/station_information.json\"\n",
        "station_status = \"https://gbfs.citibikenyc.com/gbfs/en/station_status.json\"\n"
      ]
    },
    {
      "cell_type": "code",
      "source": [
        "station_status_file_loc = '/gdrive/My Drive/station_status.json'\n",
        "station_information_file_loc = '/gdrive/My Drive/station_information.json'\n",
        "station_data_file_loc = '/gdrive/My Drive/station_data.json'\n",
        "neighborhoods_data_file_loc = '/gdrive/My Drive/neighborhoods.json'\n",
        "station_ids_file = '/gdrive/My Drive/station_ids.json'\n",
        "id_map_file = '/gdrive/My Drive/id_map.json'"
      ],
      "metadata": {
        "id": "fVscwsvt4qG4"
      },
      "execution_count": 3,
      "outputs": []
    },
    {
      "cell_type": "code",
      "source": [
        "def fetch_station_info():\n",
        "    response = requests.get(station_information)\n",
        "    if response.status_code == 200:\n",
        "        return response.json()['data']['stations']\n",
        "    else:\n",
        "        print(f\"Error fetching station information. Status code: {response.status_code}\")\n",
        "        return []"
      ],
      "metadata": {
        "id": "TnQwt83unBGT"
      },
      "execution_count": 4,
      "outputs": []
    },
    {
      "cell_type": "code",
      "source": [
        "def fetch_station_status():\n",
        "    response = requests.get(station_status)\n",
        "    if response.status_code == 200:\n",
        "        return response.json()['data']['stations']\n",
        "    else:\n",
        "        print(f\"Error fetching station status. Status code: {response.status_code}\")\n",
        "        return []"
      ],
      "metadata": {
        "id": "XkjmeoKanFE5"
      },
      "execution_count": 5,
      "outputs": []
    },
    {
      "cell_type": "code",
      "source": [
        "import json\n",
        "from datetime import datetime\n",
        "import pytz"
      ],
      "metadata": {
        "id": "fEAqS9u5fXGT"
      },
      "execution_count": 6,
      "outputs": []
    },
    {
      "cell_type": "code",
      "source": [
        "def load_neighborhood_data(neighborhood_file):\n",
        "    with open(neighborhood_file, 'r') as file:\n",
        "        return json.load(file)"
      ],
      "metadata": {
        "id": "F1alfFkJfZfp"
      },
      "execution_count": 7,
      "outputs": []
    },
    {
      "cell_type": "code",
      "source": [
        "def load_station_ids(station_ids_file):\n",
        "    with open(station_ids_file, 'r') as file:\n",
        "        return [entry['station_id'] for entry in json.load(file)]"
      ],
      "metadata": {
        "id": "YT41Spu5fdya"
      },
      "execution_count": 8,
      "outputs": []
    },
    {
      "cell_type": "code",
      "source": [
        "def load_local_id_map(id_map_file):\n",
        "    with open(id_map_file, 'r') as file:\n",
        "        return json.load(file)"
      ],
      "metadata": {
        "id": "a7DFLzfLffqR"
      },
      "execution_count": 9,
      "outputs": []
    },
    {
      "cell_type": "code",
      "source": [
        "def get_current_datetime():\n",
        "    eastern = pytz.timezone('US/Eastern')\n",
        "    return datetime.now(eastern).strftime(\"%Y-%m-%d %H:%M:%S\")"
      ],
      "metadata": {
        "id": "vBxuJzrNfhWE"
      },
      "execution_count": 10,
      "outputs": []
    },
    {
      "cell_type": "code",
      "source": [
        "def get_day_and_hour():\n",
        "    eastern = pytz.timezone('US/Eastern')\n",
        "    now = datetime.now(eastern)\n",
        "    return now.weekday(), now.hour"
      ],
      "metadata": {
        "id": "IUD_fBinfjWF"
      },
      "execution_count": 11,
      "outputs": []
    },
    {
      "cell_type": "code",
      "source": [
        "def find_matching_status(station_status, station_id):\n",
        "    return next((status for status in station_status if status['station_id'] == station_id), None)"
      ],
      "metadata": {
        "id": "SjvmsZ76fmFn"
      },
      "execution_count": 12,
      "outputs": []
    },
    {
      "cell_type": "code",
      "source": [
        "def find_matching_neighborhood(neighborhood_data, station_id):\n",
        "    return next((neighborhood for neighborhood in neighborhood_data if neighborhood['station_id'] == station_id), None)"
      ],
      "metadata": {
        "id": "1W2DLjowfsib"
      },
      "execution_count": 13,
      "outputs": []
    },
    {
      "cell_type": "code",
      "source": [
        "def combine_station_data(info, matching_status, matching_neighborhood, station_ids, local_id_map):\n",
        "    local_id = local_id_map.get(info[\"station_id\"], None)\n",
        "\n",
        "    return {\n",
        "        \"station_id\": info[\"station_id\"],\n",
        "        \"lat\": info[\"lat\"],\n",
        "        \"lon\": info[\"lon\"],\n",
        "        \"name\": info[\"name\"],\n",
        "        \"capacity\": info[\"capacity\"],\n",
        "        \"num_vehicles_available\": matching_status[\"num_bikes_available\"],\n",
        "        \"num_vehicles_disabled\": matching_status[\"num_bikes_disabled\"],\n",
        "        \"num_docks_available\": matching_status[\"num_docks_available\"],\n",
        "        \"num_docks_disabled\": matching_status[\"num_docks_disabled\"],\n",
        "        \"neighborhood\": matching_neighborhood[\"neighborhood\"],\n",
        "        \"borough\": matching_neighborhood[\"borough\"],\n",
        "        \"dateTime\": get_current_datetime(),\n",
        "        \"day_of_week\": get_day_and_hour()[0],\n",
        "        \"hour\": get_day_and_hour()[1],\n",
        "        \"local_id\": local_id\n",
        "    }"
      ],
      "metadata": {
        "id": "_QcXl3nRfz41"
      },
      "execution_count": 14,
      "outputs": []
    },
    {
      "cell_type": "code",
      "source": [
        "def filter_and_save_data(station_info, station_status, neighborhood_file, station_ids_file, id_map_file, station_data_file_loc):\n",
        "    neighborhood_data = load_neighborhood_data(neighborhood_file)\n",
        "    station_ids = load_station_ids(station_ids_file)\n",
        "    local_id_map = load_local_id_map(id_map_file)\n",
        "\n",
        "    combined_data = []\n",
        "\n",
        "    for info in station_info:\n",
        "        matching_status = find_matching_status(station_status, info['station_id'])\n",
        "        matching_neighborhood = find_matching_neighborhood(neighborhood_data, info['station_id'])\n",
        "\n",
        "        if matching_status and matching_neighborhood:\n",
        "            combined_station = combine_station_data(info, matching_status, matching_neighborhood, station_ids, local_id_map)\n",
        "\n",
        "            if combined_station[\"station_id\"] in station_ids:\n",
        "                combined_data.append(combined_station)\n",
        "\n",
        "    with open(station_data_file_loc, 'w') as file:\n",
        "        json.dump(combined_data, file, indent=2)\n",
        "\n",
        "    print(f\"Filtered and combined data with neighborhood, borough, dateTime, and local_id saved to {station_data_file_loc}\")"
      ],
      "metadata": {
        "id": "Wbc2FF_lf1-6"
      },
      "execution_count": 15,
      "outputs": []
    },
    {
      "cell_type": "code",
      "source": [
        "import json\n",
        "from datetime import datetime\n",
        "import pytz\n",
        "\n",
        "def combine_and_save_data(station_info, station_status, neighborhood_file, station_ids_file, id_map_file, station_data_file_loc):\n",
        "    # Load neighborhood data from the file\n",
        "    with open(neighborhood_file, 'r') as neighborhood_file:\n",
        "        neighborhood_data = json.load(neighborhood_file)\n",
        "\n",
        "    # Load station IDs from the file\n",
        "    with open(station_ids_file, 'r') as station_ids_file:\n",
        "        station_ids = [entry['station_id'] for entry in json.load(station_ids_file)]\n",
        "\n",
        "    # Load the local ID map from the file\n",
        "    with open(id_map_file, 'r') as id_map_file:\n",
        "        local_id_map = json.load(id_map_file)\n",
        "\n",
        "    combined_data = []\n",
        "\n",
        "    eastern = pytz.timezone('US/Eastern')\n",
        "\n",
        "    # Get the current time in Eastern Standard Time\n",
        "    current_datetime = datetime.now(eastern).strftime(\"%Y-%m-%d %H:%M:%S\")\n",
        "\n",
        "    # Get the day of the week and hour in Eastern Standard Time\n",
        "    day_of_week = datetime.now(eastern).weekday()\n",
        "    hour = datetime.now(eastern).hour\n",
        "    # Iterate through station_info\n",
        "    for info in station_info:\n",
        "        # Find the corresponding station_status entry\n",
        "        matching_status = next((status for status in station_status if status['station_id'] == info['station_id']), None)\n",
        "\n",
        "        # Find the corresponding neighborhood entry\n",
        "        matching_neighborhood = next((neighborhood for neighborhood in neighborhood_data if neighborhood['station_id'] == info['station_id']), None)\n",
        "\n",
        "        # If both matching status and neighborhood entries are found, and all conditions are met\n",
        "        if matching_status and matching_neighborhood:\n",
        "            # Get the local_id from the id_map.json file\n",
        "            local_id = local_id_map.get(info[\"station_id\"], None)\n",
        "\n",
        "            combined_station = {\n",
        "                \"station_id\": info[\"station_id\"],\n",
        "                \"lat\": info[\"lat\"],\n",
        "                \"lon\": info[\"lon\"],\n",
        "                \"name\": info[\"name\"],\n",
        "                \"capacity\": info[\"capacity\"],\n",
        "                \"num_vehicles_available\": matching_status[\"num_bikes_available\"],\n",
        "                \"num_vehicles_disabled\": matching_status[\"num_bikes_disabled\"],\n",
        "                \"num_docks_available\": matching_status[\"num_docks_available\"],\n",
        "                \"num_docks_disabled\": matching_status[\"num_docks_disabled\"],\n",
        "                \"neighborhood\": matching_neighborhood[\"neighborhood\"],\n",
        "                \"borough\": matching_neighborhood[\"borough\"],\n",
        "                \"dateTime\": current_datetime,\n",
        "                \"day_of_week\": day_of_week,\n",
        "                \"hour\": day_of_week,\n",
        "                \"local_id\": local_id  # Add the local_id\n",
        "            }\n",
        "\n",
        "            # Check if the station_id is in the list of allowed station IDs\n",
        "            if combined_station[\"station_id\"] in station_ids:\n",
        "                combined_data.append(combined_station)\n",
        "    print(len(combined_data))\n",
        "    # Save the combined data to the specified file\n",
        "    with open(station_data_file_loc, 'w') as file:\n",
        "        json.dump(combined_data, file, indent=2)\n",
        "\n",
        "    print(f\"Filtered and combined data with neighborhood, borough, dateTime, and local_id saved to {station_data_file_loc}\")\n"
      ],
      "metadata": {
        "id": "9yP0mx9ZnOT-"
      },
      "execution_count": null,
      "outputs": []
    },
    {
      "cell_type": "code",
      "source": [
        "station_info_data = fetch_station_info()"
      ],
      "metadata": {
        "id": "TM7qOSvjnrO-"
      },
      "execution_count": 16,
      "outputs": []
    },
    {
      "cell_type": "code",
      "source": [
        "while True:\n",
        "    station_status_data = fetch_station_status()\n",
        "    filter_and_save_data(station_info_data, station_status_data, neighborhoods_data_file_loc, station_ids_file, id_map_file, station_data_file_loc)\n",
        "\n",
        "    # Sleep for 60 seconds before fetching data again\n",
        "    time.sleep(5)"
      ],
      "metadata": {
        "colab": {
          "base_uri": "https://localhost:8080/",
          "height": 419
        },
        "id": "Usk792canbtB",
        "outputId": "e968edab-40b6-4e17-93df-f192739685ca"
      },
      "execution_count": 19,
      "outputs": [
        {
          "output_type": "stream",
          "name": "stdout",
          "text": [
            "Filtered and combined data with neighborhood, borough, dateTime, and local_id saved to /gdrive/My Drive/station_data.json\n",
            "Filtered and combined data with neighborhood, borough, dateTime, and local_id saved to /gdrive/My Drive/station_data.json\n",
            "Filtered and combined data with neighborhood, borough, dateTime, and local_id saved to /gdrive/My Drive/station_data.json\n",
            "Filtered and combined data with neighborhood, borough, dateTime, and local_id saved to /gdrive/My Drive/station_data.json\n",
            "Filtered and combined data with neighborhood, borough, dateTime, and local_id saved to /gdrive/My Drive/station_data.json\n",
            "Filtered and combined data with neighborhood, borough, dateTime, and local_id saved to /gdrive/My Drive/station_data.json\n",
            "Filtered and combined data with neighborhood, borough, dateTime, and local_id saved to /gdrive/My Drive/station_data.json\n",
            "Filtered and combined data with neighborhood, borough, dateTime, and local_id saved to /gdrive/My Drive/station_data.json\n",
            "Filtered and combined data with neighborhood, borough, dateTime, and local_id saved to /gdrive/My Drive/station_data.json\n",
            "Filtered and combined data with neighborhood, borough, dateTime, and local_id saved to /gdrive/My Drive/station_data.json\n",
            "Filtered and combined data with neighborhood, borough, dateTime, and local_id saved to /gdrive/My Drive/station_data.json\n",
            "Filtered and combined data with neighborhood, borough, dateTime, and local_id saved to /gdrive/My Drive/station_data.json\n"
          ]
        },
        {
          "output_type": "error",
          "ename": "KeyboardInterrupt",
          "evalue": "ignored",
          "traceback": [
            "\u001b[0;31m---------------------------------------------------------------------------\u001b[0m",
            "\u001b[0;31mKeyboardInterrupt\u001b[0m                         Traceback (most recent call last)",
            "\u001b[0;32m<ipython-input-19-e61534bb51e8>\u001b[0m in \u001b[0;36m<cell line: 1>\u001b[0;34m()\u001b[0m\n\u001b[1;32m      4\u001b[0m \u001b[0;34m\u001b[0m\u001b[0m\n\u001b[1;32m      5\u001b[0m     \u001b[0;31m# Sleep for 60 seconds before fetching data again\u001b[0m\u001b[0;34m\u001b[0m\u001b[0;34m\u001b[0m\u001b[0m\n\u001b[0;32m----> 6\u001b[0;31m     \u001b[0mtime\u001b[0m\u001b[0;34m.\u001b[0m\u001b[0msleep\u001b[0m\u001b[0;34m(\u001b[0m\u001b[0;36m5\u001b[0m\u001b[0;34m)\u001b[0m\u001b[0;34m\u001b[0m\u001b[0;34m\u001b[0m\u001b[0m\n\u001b[0m",
            "\u001b[0;31mKeyboardInterrupt\u001b[0m: "
          ]
        }
      ]
    },
    {
      "cell_type": "code",
      "source": [],
      "metadata": {
        "id": "K1J2enFPnk_W"
      },
      "execution_count": null,
      "outputs": []
    }
  ]
}