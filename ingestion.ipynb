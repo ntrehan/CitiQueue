{
  "nbformat": 4,
  "nbformat_minor": 0,
  "metadata": {
    "colab": {
      "provenance": [],
      "toc_visible": true
    },
    "kernelspec": {
      "name": "python3",
      "display_name": "Python 3"
    },
    "language_info": {
      "name": "python"
    }
  },
  "cells": [
    {
      "cell_type": "markdown",
      "source": [],
      "metadata": {
        "id": "3xIR5eLLk9li"
      }
    },
    {
      "cell_type": "code",
      "source": [
        "from google.colab import drive\n",
        "drive.mount('/gdrive')"
      ],
      "metadata": {
        "colab": {
          "base_uri": "https://localhost:8080/"
        },
        "id": "Bzs1aDU9k-ua",
        "outputId": "f2d7404f-47e8-4b4d-985c-1a55ccff8589"
      },
      "execution_count": null,
      "outputs": [
        {
          "output_type": "stream",
          "name": "stdout",
          "text": [
            "Mounted at /gdrive\n"
          ]
        }
      ]
    },
    {
      "cell_type": "code",
      "execution_count": null,
      "metadata": {
        "id": "C9xaTKMTkpQ3"
      },
      "outputs": [],
      "source": [
        "import os, time\n",
        "import requests\n",
        "import json\n",
        "from datetime import datetime\n",
        "\n",
        "station_information = \"https://gbfs.citibikenyc.com/gbfs/en/station_information.json\"\n",
        "station_status = \"https://gbfs.citibikenyc.com/gbfs/en/station_status.json\"\n"
      ]
    },
    {
      "cell_type": "code",
      "source": [
        "station_status_file_loc = '/gdrive/My Drive/station_status.json'\n",
        "station_information_file_loc = '/gdrive/My Drive/station_information.json'\n",
        "station_data_file_loc = '/gdrive/My Drive/station_data.json'"
      ],
      "metadata": {
        "id": "fVscwsvt4qG4"
      },
      "execution_count": null,
      "outputs": []
    },
    {
      "cell_type": "code",
      "source": [
        "def fetch_station_info():\n",
        "    response = requests.get(station_information)\n",
        "    if response.status_code == 200:\n",
        "        return response.json()['data']['stations']\n",
        "    else:\n",
        "        print(f\"Error fetching station information. Status code: {response.status_code}\")\n",
        "        return []"
      ],
      "metadata": {
        "id": "TnQwt83unBGT"
      },
      "execution_count": null,
      "outputs": []
    },
    {
      "cell_type": "code",
      "source": [
        "def fetch_station_status():\n",
        "    response = requests.get(station_status)\n",
        "    if response.status_code == 200:\n",
        "        return response.json()['data']['stations']\n",
        "    else:\n",
        "        print(f\"Error fetching station status. Status code: {response.status_code}\")\n",
        "        return []"
      ],
      "metadata": {
        "id": "XkjmeoKanFE5"
      },
      "execution_count": null,
      "outputs": []
    },
    {
      "cell_type": "code",
      "source": [
        "def combine_and_save_data(station_info, station_status):\n",
        "    combined_data = []\n",
        "    for info in station_info:\n",
        "        for status in station_status:\n",
        "            if info['station_id'] == status['station_id']:\n",
        "                combined_station = {\n",
        "                    \"station_id\": info[\"station_id\"],\n",
        "                    \"lat\": info[\"lat\"],\n",
        "                    \"lon\": info[\"lon\"],\n",
        "                    \"name\": info[\"name\"],\n",
        "                    \"address\": info.get(\"address\", \"\"),\n",
        "                    \"post_code\": info.get(\"post_code\", \"\"),\n",
        "                    \"capacity\": info[\"capacity\"],\n",
        "                    \"num_vehicles_available\": status[\"num_bikes_available\"],\n",
        "                    \"num_vehicles_disabled\": status[\"num_bikes_disabled\"],\n",
        "                    \"num_docks_available\": status[\"num_docks_available\"],\n",
        "                    \"num_docks_disabled\": status[\"num_docks_disabled\"]\n",
        "                }\n",
        "                combined_data.append(combined_station)\n",
        "                break\n",
        "\n",
        "    # Save the combined data to a local file\n",
        "    with open(station_data_file_loc, 'w') as file:\n",
        "        json.dump(combined_data, file, indent=2)\n",
        "\n",
        "    print(f\"Combined data saved to {station_data_file_loc}\")"
      ],
      "metadata": {
        "id": "9yP0mx9ZnOT-"
      },
      "execution_count": null,
      "outputs": []
    },
    {
      "cell_type": "code",
      "source": [
        "station_info_data = fetch_station_info()"
      ],
      "metadata": {
        "id": "TM7qOSvjnrO-"
      },
      "execution_count": null,
      "outputs": []
    },
    {
      "cell_type": "code",
      "source": [
        "while True:\n",
        "\n",
        "        station_status_data = fetch_station_status()\n",
        "        combine_and_save_data(station_info_data, station_status_data)\n",
        "\n",
        "        # Sleep for 60 seconds before fetching data again\n",
        "        time.sleep(60)"
      ],
      "metadata": {
        "colab": {
          "base_uri": "https://localhost:8080/",
          "height": 245
        },
        "id": "Usk792canbtB",
        "outputId": "cdb37940-3cf3-4640-c19b-b31c6d0ba4e6"
      },
      "execution_count": null,
      "outputs": [
        {
          "output_type": "stream",
          "name": "stdout",
          "text": [
            "Combined data saved to /gdrive/My Drive/station_data.json\n",
            "Time taken for one iteration: 0.9011352062225342 seconds\n"
          ]
        },
        {
          "output_type": "error",
          "ename": "KeyboardInterrupt",
          "evalue": "ignored",
          "traceback": [
            "\u001b[0;31m---------------------------------------------------------------------------\u001b[0m",
            "\u001b[0;31mKeyboardInterrupt\u001b[0m                         Traceback (most recent call last)",
            "\u001b[0;32m<ipython-input-14-280c93592249>\u001b[0m in \u001b[0;36m<cell line: 1>\u001b[0;34m()\u001b[0m\n\u001b[1;32m     11\u001b[0m \u001b[0;34m\u001b[0m\u001b[0m\n\u001b[1;32m     12\u001b[0m         \u001b[0;31m# Sleep for 60 seconds before fetching data again\u001b[0m\u001b[0;34m\u001b[0m\u001b[0;34m\u001b[0m\u001b[0m\n\u001b[0;32m---> 13\u001b[0;31m         \u001b[0mtime\u001b[0m\u001b[0;34m.\u001b[0m\u001b[0msleep\u001b[0m\u001b[0;34m(\u001b[0m\u001b[0;36m60\u001b[0m\u001b[0;34m)\u001b[0m\u001b[0;34m\u001b[0m\u001b[0;34m\u001b[0m\u001b[0m\n\u001b[0m",
            "\u001b[0;31mKeyboardInterrupt\u001b[0m: "
          ]
        }
      ]
    },
    {
      "cell_type": "code",
      "source": [],
      "metadata": {
        "id": "K1J2enFPnk_W"
      },
      "execution_count": null,
      "outputs": []
    }
  ]
}