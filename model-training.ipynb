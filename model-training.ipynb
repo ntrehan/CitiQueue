{
 "cells": [
  {
   "cell_type": "code",
   "execution_count": 2,
   "id": "951bbed0-454e-41a3-b800-cb42e9f29d90",
   "metadata": {},
   "outputs": [
    {
     "name": "stderr",
     "output_type": "stream",
     "text": [
      "C:\\Users\\treha\\AppData\\Local\\Programs\\Python\\Python311\\Lib\\site-packages\\sklearn\\ensemble\\_base.py:166: FutureWarning: `base_estimator` was renamed to `estimator` in version 1.2 and will be removed in 1.4.\n",
      "  warnings.warn(\n"
     ]
    }
   ],
   "source": [
    "from sklearn.model_selection import train_test_split\n",
    "from sklearn.ensemble import RandomForestRegressor\n",
    "from sklearn.metrics import mean_squared_error\n",
    "from sklearn.preprocessing import StandardScaler\n",
    "import pandas as pd\n",
    "import numpy as np\n",
    "from scipy import stats\n",
    "from sklearn.ensemble import AdaBoostRegressor\n",
    "from sklearn.tree import DecisionTreeRegressor\n",
    "from sklearn.neighbors import KNeighborsRegressor\n",
    "from sklearn.metrics import mean_absolute_error as mae\n",
    "from sklearn.metrics import explained_variance_score as evs\n",
    "from sklearn.metrics import r2_score\n",
    "\n",
    "with open('trip_data_something_v3.csv','r') as filex:\n",
    "  result_df = pd.read_csv(filex)\n",
    "column_name = 'number_of_trips'\n",
    "z_scores = stats.zscore(result_df[column_name])\n",
    "z_score_threshold = 15\n",
    "result_df = result_df[abs(z_scores) < z_score_threshold]\n",
    "\n",
    "result_df['day'] /= 7\n",
    "result_df['hour'] /= 24\n",
    "X = result_df[['day', 'hour', 'station_id']].values\n",
    "y = result_df['number_of_trips'].values\n",
    "X_train, X_test, y_train, y_test = train_test_split(X, y, test_size=0.2, random_state=42)\n",
    "ab_model = AdaBoostRegressor(n_estimators=100, base_estimator=DecisionTreeRegressor(max_depth=30))\n",
    "ab_model.fit(X_train, y_train)\n",
    "y_pred = ab_model.predict(X_test)"
   ]
  },
  {
   "cell_type": "code",
   "execution_count": 5,
   "id": "f05b885d-4e81-4f4c-9993-54406e39f2ba",
   "metadata": {},
   "outputs": [],
   "source": [
    "import pickle\n",
    "with open('adb-model.pkl', 'wb') as file:\n",
    "    pickle.dump(ab_model, file)"
   ]
  },
  {
   "cell_type": "code",
   "execution_count": null,
   "id": "1502050e-260c-4804-9e90-f11857ff9851",
   "metadata": {},
   "outputs": [],
   "source": []
  }
 ],
 "metadata": {
  "kernelspec": {
   "display_name": "Python 3 (ipykernel)",
   "language": "python",
   "name": "python3"
  },
  "language_info": {
   "codemirror_mode": {
    "name": "ipython",
    "version": 3
   },
   "file_extension": ".py",
   "mimetype": "text/x-python",
   "name": "python",
   "nbconvert_exporter": "python",
   "pygments_lexer": "ipython3",
   "version": "3.11.1"
  }
 },
 "nbformat": 4,
 "nbformat_minor": 5
}
